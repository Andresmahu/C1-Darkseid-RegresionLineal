{
 "cells": [
  {
   "metadata": {
    "ExecuteTime": {
     "end_time": "2024-08-25T15:15:00.917713Z",
     "start_time": "2024-08-25T15:15:00.544507Z"
    }
   },
   "cell_type": "code",
   "source": [
    "import numpy as np\n",
    "import matplotlib.pyplot as plt\n"
   ],
   "id": "27e12d0b85e935ea",
   "outputs": [],
   "execution_count": 2
  },
  {
   "metadata": {
    "collapsed": true,
    "ExecuteTime": {
     "end_time": "2024-08-25T19:38:37.024181Z",
     "start_time": "2024-08-25T19:38:37.020013Z"
    }
   },
   "cell_type": "code",
   "source": [
    "def CreatePoints(n_variables,n_samples,std):\n",
    "    X = np.random.rand(n_samples, n_variables)\n",
    "    X_ = np.ones([n_samples, n_variables+1])\n",
    "    X_[:, :n_variables] = X\n",
    "    beta = np.random.rand(1,n_variables+1)*20\n",
    "    print(beta)\n",
    "    Y = beta@(X_.T + np.random.normal(0, std, size = [1, n_samples]))\n",
    "    return X_,Y.T\n",
    "X,Y=CreatePoints(1,100,0.1)"
   ],
   "id": "initial_id",
   "outputs": [
    {
     "name": "stdout",
     "output_type": "stream",
     "text": [
      "[[11.94790513 12.67288432]]\n"
     ]
    }
   ],
   "execution_count": 349
  },
  {
   "metadata": {
    "ExecuteTime": {
     "end_time": "2024-08-25T19:19:19.131512Z",
     "start_time": "2024-08-25T19:19:19.077742Z"
    }
   },
   "cell_type": "code",
   "source": [
    "def ShowTendency(X,Y):\n",
    "    plt.scatter(X[:,0],Y[:])\n",
    "    plt.show()\n",
    "ShowTendency(X,Y)"
   ],
   "id": "cc1f701966ec716a",
   "outputs": [
    {
     "data": {
      "text/plain": [
       "<Figure size 640x480 with 1 Axes>"
      ],
      "image/png": "[encoded data removed]"
     },
     "metadata": {},
     "output_type": "display_data"
    }
   ],
   "execution_count": 341
  },
  {
   "metadata": {
    "ExecuteTime": {
     "end_time": "2024-08-25T19:38:44.969892Z",
     "start_time": "2024-08-25T19:38:44.965893Z"
    }
   },
   "cell_type": "code",
   "source": "print(X)",
   "id": "ab5712b809df8022",
   "outputs": [
    {
     "name": "stdout",
     "output_type": "stream",
     "text": [
      "[[0.82881806 1.        ]\n",
      " [0.64381035 1.        ]\n",
      " [0.16160897 1.        ]\n",
      " [0.81291527 1.        ]\n",
      " [0.56778561 1.        ]\n",
      " [0.7332015  1.        ]\n",
      " [0.51335489 1.        ]\n",
      " [0.78210804 1.        ]\n",
      " [0.96672565 1.        ]\n",
      " [0.85348329 1.        ]\n",
      " [0.34845497 1.        ]\n",
      " [0.09140196 1.        ]\n",
      " [0.02958557 1.        ]\n",
      " [0.94144913 1.        ]\n",
      " [0.38827303 1.        ]\n",
      " [0.56212042 1.        ]\n",
      " [0.9091835  1.        ]\n",
      " [0.93192784 1.        ]\n",
      " [0.09780405 1.        ]\n",
      " [0.49761173 1.        ]\n",
      " [0.8658867  1.        ]\n",
      " [0.7259314  1.        ]\n",
      " [0.27752843 1.        ]\n",
      " [0.07388257 1.        ]\n",
      " [0.28164894 1.        ]\n",
      " [0.51370353 1.        ]\n",
      " [0.36914911 1.        ]\n",
      " [0.72881342 1.        ]\n",
      " [0.70746573 1.        ]\n",
      " [0.70061986 1.        ]\n",
      " [0.67038828 1.        ]\n",
      " [0.74557258 1.        ]\n",
      " [0.78101575 1.        ]\n",
      " [0.74203306 1.        ]\n",
      " [0.52766459 1.        ]\n",
      " [0.9561407  1.        ]\n",
      " [0.32840899 1.        ]\n",
      " [0.87962055 1.        ]\n",
      " [0.56816521 1.        ]\n",
      " [0.7267814  1.        ]\n",
      " [0.9269637  1.        ]\n",
      " [0.83459878 1.        ]\n",
      " [0.55813717 1.        ]\n",
      " [0.77248364 1.        ]\n",
      " [0.98493105 1.        ]\n",
      " [0.39137955 1.        ]\n",
      " [0.03506502 1.        ]\n",
      " [0.15694418 1.        ]\n",
      " [0.35318763 1.        ]\n",
      " [0.09869639 1.        ]\n",
      " [0.50554915 1.        ]\n",
      " [0.27139508 1.        ]\n",
      " [0.70384992 1.        ]\n",
      " [0.43092063 1.        ]\n",
      " [0.3942427  1.        ]\n",
      " [0.7347672  1.        ]\n",
      " [0.71684453 1.        ]\n",
      " [0.56117222 1.        ]\n",
      " [0.65712357 1.        ]\n",
      " [0.32717739 1.        ]\n",
      " [0.98504576 1.        ]\n",
      " [0.54185273 1.        ]\n",
      " [0.21288806 1.        ]\n",
      " [0.67860436 1.        ]\n",
      " [0.57632194 1.        ]\n",
      " [0.20841062 1.        ]\n",
      " [0.8732935  1.        ]\n",
      " [0.06418908 1.        ]\n",
      " [0.56460671 1.        ]\n",
      " [0.65057428 1.        ]\n",
      " [0.93872893 1.        ]\n",
      " [0.27480264 1.        ]\n",
      " [0.24594835 1.        ]\n",
      " [0.99510543 1.        ]\n",
      " [0.25550862 1.        ]\n",
      " [0.20010464 1.        ]\n",
      " [0.22928684 1.        ]\n",
      " [0.57495101 1.        ]\n",
      " [0.1497069  1.        ]\n",
      " [0.3935785  1.        ]\n",
      " [0.70071335 1.        ]\n",
      " [0.81722872 1.        ]\n",
      " [0.82543811 1.        ]\n",
      " [0.51514286 1.        ]\n",
      " [0.56504342 1.        ]\n",
      " [0.8899644  1.        ]\n",
      " [0.85063457 1.        ]\n",
      " [0.85202332 1.        ]\n",
      " [0.93838768 1.        ]\n",
      " [0.65589141 1.        ]\n",
      " [0.64475799 1.        ]\n",
      " [0.09438149 1.        ]\n",
      " [0.02334312 1.        ]\n",
      " [0.60754688 1.        ]\n",
      " [0.07042734 1.        ]\n",
      " [0.68718257 1.        ]\n",
      " [0.72928482 1.        ]\n",
      " [0.13034811 1.        ]\n",
      " [0.24527293 1.        ]\n",
      " [0.70319047 1.        ]]\n"
     ]
    }
   ],
   "execution_count": 350
  },
  {
   "metadata": {
    "ExecuteTime": {
     "end_time": "2024-08-25T19:43:04.774775Z",
     "start_time": "2024-08-25T19:43:04.771222Z"
    }
   },
   "cell_type": "code",
   "source": [
    "def LinearRegression(X,Y):\n",
    "    y_mean=Y.mean()\n",
    "    x_mean=X.mean(axis=1)\n",
    "    a=np.sum((Y-y_mean)*X[:,0])/np.sum((X[:,0]-x_mean)*X[:,0])\n",
    "    b=np.sum(Y-a*X[:,0])/len(Y)\n",
    "    return a,b\n",
    "a,b=LinearRegression(X,Y)  \n",
    "print(a,b)"
   ],
   "id": "6253c016afe32450",
   "outputs": [
    {
     "name": "stdout",
     "output_type": "stream",
     "text": [
      "-2.9718866335407116e-13 1931.086617638219\n"
     ]
    }
   ],
   "execution_count": 353
  },
  {
   "metadata": {},
   "cell_type": "code",
   "outputs": [],
   "execution_count": null,
   "source": "",
   "id": "7051ca65e2fc9f1a"
  }
 ],
 "metadata": {
  "kernelspec": {
   "display_name": "Python 3",
   "language": "python",
   "name": "python3"
  },
  "language_info": {
   "codemirror_mode": {
    "name": "ipython",
    "version": 2
   },
   "file_extension": ".py",
   "mimetype": "text/x-python",
   "name": "python",
   "nbconvert_exporter": "python",
   "pygments_lexer": "ipython2",
   "version": "2.7.6"
  }
 },
 "nbformat": 4,
 "nbformat_minor": 5
}
