{
 "cells": [
  {
   "metadata": {
    "ExecuteTime": {
     "end_time": "2024-08-26T23:44:12.054760Z",
     "start_time": "2024-08-26T23:44:11.267216Z"
    }
   },
   "cell_type": "code",
   "source": [
    "import numpy as np\n",
    "import matplotlib.pyplot as plt\n",
    "from pyparsing import alphas\n"
   ],
   "id": "27e12d0b85e935ea",
   "outputs": [],
   "execution_count": 2
  },
  {
   "metadata": {
    "collapsed": true,
    "ExecuteTime": {
     "end_time": "2024-08-26T23:44:12.146374Z",
     "start_time": "2024-08-26T23:44:12.083306Z"
    }
   },
   "cell_type": "code",
   "source": [
    "def CreatePoints(n_variables,n_samples,std):\n",
    "    X = np.random.rand(n_samples, n_variables)\n",
    "    X_ = np.ones([n_samples, n_variables+1])\n",
    "    X_[:, :n_variables] = X\n",
    "    beta = np.random.rand(1,n_variables+1)*20\n",
    "    print(beta)\n",
    "    Y = beta@(X_.T + np.random.normal(0, std, size = [1, n_samples]))\n",
    "    return X_,Y\n",
    "X,Y=CreatePoints(2,100,0.1)"
   ],
   "id": "initial_id",
   "outputs": [
    {
     "name": "stdout",
     "output_type": "stream",
     "text": [
      "[[12.56768124  5.36895937  3.74376453]]\n"
     ]
    }
   ],
   "execution_count": 3
  },
  {
   "metadata": {
    "ExecuteTime": {
     "end_time": "2024-08-26T23:44:12.363594Z",
     "start_time": "2024-08-26T23:44:12.236946Z"
    }
   },
   "cell_type": "code",
   "source": [
    "def ShowTendency(X,Y):\n",
    "    plt.scatter(X[:,0],Y.T[:])\n",
    "    plt.show()\n",
    "ShowTendency(X,Y)"
   ],
   "id": "cc1f701966ec716a",
   "outputs": [
    {
     "data": {
      "text/plain": [
       "<Figure size 640x480 with 1 Axes>"
      ],
      "image/png": "[encoded data removed]"
     },
     "metadata": {},
     "output_type": "display_data"
    }
   ],
   "execution_count": 4
  },
  {
   "metadata": {
    "ExecuteTime": {
     "end_time": "2024-08-26T23:49:21.658631Z",
     "start_time": "2024-08-26T23:49:21.651526Z"
    }
   },
   "cell_type": "code",
   "source": [
    "def LinearRegression(X,Y):\n",
    "    y_mean=Y.mean()\n",
    "    x_mean=X.mean(axis=0)[0]\n",
    "    alpha=np.ones(len(X[0])-1)\n",
    "    for i in range(len(X[0])-1):\n",
    "        a=np.sum((Y-y_mean)*X[:,i])/np.sum((X[:,i]-x_mean)*X[:,i])\n",
    "        alpha[i]=a\n",
    "    b=(np.sum(Y-(X[:,:-1]@alpha)))/len(X[:,0])\n",
    "    return alpha,b\n",
    "a,b=LinearRegression(X,Y)  \n",
    "print(a,b)"
   ],
   "id": "6253c016afe32450",
   "outputs": [
    {
     "name": "stdout",
     "output_type": "stream",
     "text": [
      "[12.57878839  6.24193774] 3.207306077069332\n"
     ]
    }
   ],
   "execution_count": 18
  },
  {
   "metadata": {
    "ExecuteTime": {
     "end_time": "2024-08-26T23:54:59.954908Z",
     "start_time": "2024-08-26T23:54:59.946883Z"
    }
   },
   "cell_type": "code",
   "source": [
    "from sklearn.linear_model import LinearRegression\n",
    "model=LinearRegression()\n",
    "model.fit(X, Y.flatten())\n",
    "pendientes_sklearn = model.coef_\n",
    "intercepto_sklearn = model.intercept_"
   ],
   "id": "7051ca65e2fc9f1a",
   "outputs": [],
   "execution_count": 22
  },
  {
   "metadata": {
    "ExecuteTime": {
     "end_time": "2024-08-26T23:55:07.556677Z",
     "start_time": "2024-08-26T23:55:07.551759Z"
    }
   },
   "cell_type": "code",
   "source": [
    "print(pendientes_sklearn)\n",
    "print(intercepto_sklearn)"
   ],
   "id": "69e33ced4779c32a",
   "outputs": [
    {
     "name": "stdout",
     "output_type": "stream",
     "text": [
      "[12.34628646  5.2683946   0.        ]\n",
      "3.8095542221261223\n"
     ]
    }
   ],
   "execution_count": 23
  }
 ],
 "metadata": {
  "kernelspec": {
   "display_name": "Python 3",
   "language": "python",
   "name": "python3"
  },
  "language_info": {
   "codemirror_mode": {
    "name": "ipython",
    "version": 2
   },
   "file_extension": ".py",
   "mimetype": "text/x-python",
   "name": "python",
   "nbconvert_exporter": "python",
   "pygments_lexer": "ipython2",
   "version": "2.7.6"
  }
 },
 "nbformat": 4,
 "nbformat_minor": 5
}
